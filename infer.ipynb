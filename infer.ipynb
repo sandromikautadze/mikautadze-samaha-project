{
 "cells": [
  {
   "cell_type": "code",
   "execution_count": 1,
   "metadata": {},
   "outputs": [],
   "source": [
    "import torch\n",
    "from ultralytics import YOLO\n",
    "import supervision as sv\n",
    "from inference import get_model\n",
    "from sports.configs.soccer import SoccerPitchConfiguration\n",
    "from utils import infer_video_and_save_pitch_images, process_offside_detection\n",
    "device = \"cuda\" if torch.cuda.is_available() else \"cpu\""
   ]
  },
  {
   "cell_type": "markdown",
   "metadata": {},
   "source": [
    "# Setup"
   ]
  },
  {
   "cell_type": "markdown",
   "metadata": {},
   "source": [
    "**IMPORTANT**\n",
    "\n",
    "The default model for player/ref/ball detection is our one. If you want to use a pretrained one, select TRUE. Notice that selecting to TRUE will slow down the inference, since the pretrained model is larger."
   ]
  },
  {
   "cell_type": "code",
   "execution_count": 2,
   "metadata": {},
   "outputs": [],
   "source": [
    "use_larger_model = False\n",
    "if use_larger_model:\n",
    "    PLAYER_DETECTION_MODEL_ID = \"football-players-detection-3zvbc/12\"\n",
    "    PLAYER_DETECTION_MODEL = get_model(model_id=PLAYER_DETECTION_MODEL_ID)\n",
    "else:\n",
    "    PLAYER_DETECTION_MODEL = YOLO(\"best.pt\").to(device)"
   ]
  },
  {
   "cell_type": "code",
   "execution_count": null,
   "metadata": {},
   "outputs": [],
   "source": [
    "FIELD_DETECTION_MODEL_ID = \"football-field-detection-f07vi/15\"\n",
    "FIELD_DETECTION_MODEL = get_model(model_id=FIELD_DETECTION_MODEL_ID)\n",
    "PITCH_CONFIGURATION = SoccerPitchConfiguration()\n",
    "INPUT_VIDEO_PATH = \"video.mp4\""
   ]
  },
  {
   "cell_type": "markdown",
   "metadata": {},
   "source": [
    "# Player Detection"
   ]
  },
  {
   "cell_type": "markdown",
   "metadata": {},
   "source": [
    "The function saves the video and a folder with the pitch and voronoi projections. Notice that the inference may take up to 1 hour for long videos using the larger model."
   ]
  },
  {
   "cell_type": "code",
   "execution_count": null,
   "metadata": {},
   "outputs": [],
   "source": [
    "infer_video_and_save_pitch_images(\n",
    "    player_model=PLAYER_DETECTION_MODEL, field_model=FIELD_DETECTION_MODEL,\n",
    "    input_video_path=INPUT_VIDEO_PATH, pitch_configuration=PITCH_CONFIGURATION, output_base_folder=\"inference\",\n",
    "    is_yolov8=use_larger_model,\n",
    ")"
   ]
  },
  {
   "cell_type": "markdown",
   "metadata": {},
   "source": [
    "# Offside"
   ]
  },
  {
   "cell_type": "markdown",
   "metadata": {},
   "source": [
    "It should take a few seconds."
   ]
  },
  {
   "cell_type": "code",
   "execution_count": null,
   "metadata": {},
   "outputs": [],
   "source": [
    "pitch, _ = process_offside_detection(\"frame.jpg\", PLAYER_DETECTION_MODEL, FIELD_DETECTION_MODEL,\n",
    "                                     0, 1, PITCH_CONFIGURATION, is_yolov8=use_larger_model)"
   ]
  },
  {
   "cell_type": "code",
   "execution_count": null,
   "metadata": {},
   "outputs": [],
   "source": [
    "sv.plot_image(pitch)"
   ]
  }
 ],
 "metadata": {
  "kernelspec": {
   "display_name": "waldo",
   "language": "python",
   "name": "python3"
  },
  "language_info": {
   "codemirror_mode": {
    "name": "ipython",
    "version": 3
   },
   "file_extension": ".py",
   "mimetype": "text/x-python",
   "name": "python",
   "nbconvert_exporter": "python",
   "pygments_lexer": "ipython3",
   "version": "3.10.15"
  }
 },
 "nbformat": 4,
 "nbformat_minor": 2
}
